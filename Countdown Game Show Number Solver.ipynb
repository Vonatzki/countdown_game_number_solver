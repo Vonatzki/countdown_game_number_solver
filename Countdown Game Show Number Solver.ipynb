{
 "cells": [
  {
   "cell_type": "code",
   "execution_count": 50,
   "metadata": {},
   "outputs": [],
   "source": [
    "from itertools import combinations, combinations_with_replacement, permutations, product\n",
    "import operator\n",
    "import pandas as pd\n",
    "import numpy as np"
   ]
  },
  {
   "cell_type": "code",
   "execution_count": 4,
   "metadata": {},
   "outputs": [],
   "source": [
    "def countdown(b, s):\n",
    "    target = np.random.choice(range(99,1000), 1, replace=False)[0]\n",
    "    big =  np.random.choice([25, 50, 75, 100], b, replace=False)\n",
    "    small = np.random.choice(range(1,10), s, replace=True)\n",
    "    \n",
    "    number_pile = list(big) + list(small)\n",
    "    \n",
    "    return target, big, small, number_pile"
   ]
  },
  {
   "cell_type": "code",
   "execution_count": null,
   "metadata": {},
   "outputs": [],
   "source": [
    "def generate_op_symbols(op_combs):\n",
    "    output = ()\n",
    "\n",
    "    symbol_dict = {\n",
    "        operator.sub:' - ',\n",
    "        operator.mul:' x ',\n",
    "        operator.truediv:' / ',\n",
    "        operator.add:' + ',\n",
    "    }\n",
    "\n",
    "    for i in op_combs:\n",
    "        output += (symbol_dict[i],)\n",
    "\n",
    "    return output"
   ]
  },
  {
   "cell_type": "code",
   "execution_count": 81,
   "metadata": {},
   "outputs": [],
   "source": [
    "def find_solution(target, number_pile):\n",
    "    operators = [operator.add, operator.sub, operator.truediv, operator.mul]\n",
    "    output = []\n",
    "\n",
    "    for i in range(2, 7):\n",
    "        combs = [f for f in permutations(number_pile, i)]\n",
    "        op_combs = [f for f in product(operators, repeat=i - 1)]\n",
    "\n",
    "        answers = []\n",
    "        for comb in combs:\n",
    "            for op_comb in op_combs:\n",
    "                answer = op_comb[0](*comb[0:2])\n",
    "                for ordinal_key, ordinal_pos in enumerate(range(2,i)):\n",
    "                    answer = op_comb[ordinal_pos-1](answer, comb[ordinal_pos])\n",
    "\n",
    "                answers.append((comb, op_comb, answer))\n",
    "\n",
    "        output += answers\n",
    "\n",
    "    absolute_values = np.abs(target - pd.Series([f[2] for f in output]))\n",
    "    possible_answers = pd.Series(output)[absolute_values == absolute_values.min()]\n",
    "\n",
    "    print(f'Target is {target}:')\n",
    "\n",
    "    final_list = []\n",
    "    for i in possible_answers.values:\n",
    "        symbols = generate_op_symbols(i[1])\n",
    "        listified = list(i[0])\n",
    "        for pos in range(len(i[0])):\n",
    "            try:\n",
    "                listified.insert(pos+1+pos, symbols[pos])\n",
    "            except:\n",
    "                continue\n",
    "        listified = ''.join([str(f) for f in listified])\n",
    "        final_list.append(f'{listified} = {i[2]}')\n",
    "\n",
    "    print(pd.Series(final_list).drop_duplicates())\n",
    "    "
   ]
  },
  {
   "cell_type": "code",
   "execution_count": 87,
   "metadata": {},
   "outputs": [
    {
     "name": "stdout",
     "output_type": "stream",
     "text": [
      "Target: 969 / Numbers: [25, 50, 100, 7, 3, 6]\n"
     ]
    }
   ],
   "source": [
    "countdown_tuple = countdown(3,3)\n",
    "target, big, small, number_pile = countdown_tuple\n",
    "\n",
    "print(f'Target: {target} / Numbers: {number_pile}')"
   ]
  },
  {
   "cell_type": "code",
   "execution_count": 89,
   "metadata": {},
   "outputs": [],
   "source": [
    "target = 978\n",
    "number_pile = [9,9,7,2,50,25]"
   ]
  },
  {
   "cell_type": "code",
   "execution_count": 91,
   "metadata": {},
   "outputs": [
    {
     "name": "stdout",
     "output_type": "stream",
     "text": [
      "Target is 978:\n",
      "0    50 + 25 x 2 - 9 x 7 - 9 = 978\n",
      "2    25 + 50 x 2 - 9 x 7 - 9 = 978\n",
      "dtype: object\n"
     ]
    }
   ],
   "source": [
    "find_solution(target, number_pile)"
   ]
  }
 ],
 "metadata": {
  "kernelspec": {
   "display_name": "Python 3",
   "language": "python",
   "name": "python3"
  },
  "language_info": {
   "codemirror_mode": {
    "name": "ipython",
    "version": 3
   },
   "file_extension": ".py",
   "mimetype": "text/x-python",
   "name": "python",
   "nbconvert_exporter": "python",
   "pygments_lexer": "ipython3",
   "version": "3.6.5"
  }
 },
 "nbformat": 4,
 "nbformat_minor": 2
}
